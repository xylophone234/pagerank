{
 "cells": [
  {
   "cell_type": "code",
   "execution_count": 1,
   "metadata": {
    "collapsed": true
   },
   "outputs": [],
   "source": []
  },
  {
   "cell_type": "code",
   "execution_count": 27,
   "metadata": {
    "collapsed": true
   },
   "outputs": [],
   "source": [
    "import numpy as np\n",
    "def pagerank(fn_chuck,size,max_iter=300,eps=1e-10):\n",
    "    '''\n",
    "    pagerank need a size*size matrix which every column sum equal to 1.0\n",
    "    This big file must save in some files with filename like 'xxx_0_1000.npy','xxx_1000_1500.npy',\n",
    "    means the matrix from row 1000 to row 1500\n",
    "    params:\n",
    "        fn_chunk:string,a file name,it's content is a chunk file name per line,\n",
    "                    like 'xxx_0_1000.npy\\nxxx_1000_1500.npy\n",
    "        size:int,the sqare matrix size\n",
    "        max_iter:int,the number of max iter\n",
    "        eps:float,the erros you can accept\n",
    "    returns:\n",
    "        pagerank value: ,size rows 1 column\n",
    "        error:current error\n",
    "    '''\n",
    "    x1=np.zeros((size,1))+1.0/size\n",
    "    x2=np.zeros((size,1))\n",
    "    n_iter=0\n",
    "    error = np.abs(x1-x2).mean()\n",
    "    chunk_fn_list=[line.rstrip() for line in open(fn_chuck)]\n",
    "    while n_iter<max_iter and error > eps:\n",
    "        for fn in chunk_fn_list:\n",
    "            chunk_start,chunk_end = fn.split('.')[0].split('_')[-2:]\n",
    "            chunk_start,chunk_end = int(chunk_start),int(chunk_end )\n",
    "            x2[chunk_start:chunk_end]=np.dot(np.load(fn),x1)\n",
    "        error = np.abs(x1-x2).mean()\n",
    "        x1,x2 = x2,x1\n",
    "    return x2,error"
   ]
  },
  {
   "cell_type": "code",
   "execution_count": 22,
   "metadata": {
    "collapsed": true
   },
   "outputs": [],
   "source": [
    "size=100\n",
    "h=np.arange(size*size).reshape(size,size).astype(np.float)\n",
    "# every column added to 1.0\n",
    "h=h/h.sum(axis=0)\n",
    "# save to 3 files\n",
    "np.save('h_0_30.npy',h[0:30])\n",
    "np.save('h_30_60.npy',h[30:60])\n",
    "np.save('h_60_100.npy',h[60:100])\n",
    "\n",
    "import pagerank\n",
    "x = pagerank.pagerank('fn_chunk.txt',size)\n",
    "print x\n"
   ]
  },
  {
   "cell_type": "code",
   "execution_count": 15,
   "metadata": {
    "collapsed": false
   },
   "outputs": [
    {
     "data": {
      "text/plain": [
       "(array([[  0.,   1.,   2.,   3.],\n",
       "        [  4.,   5.,   6.,   7.],\n",
       "        [  8.,   9.,  10.,  11.],\n",
       "        [ 12.,  13.,  14.,  15.]]),\n",
       " array([[ 0.        ,  0.03571429,  0.0625    ,  0.08333333],\n",
       "        [ 0.16666667,  0.17857143,  0.1875    ,  0.19444444],\n",
       "        [ 0.33333333,  0.32142857,  0.3125    ,  0.30555556],\n",
       "        [ 0.5       ,  0.46428571,  0.4375    ,  0.41666667]]))"
      ]
     },
     "execution_count": 15,
     "metadata": {},
     "output_type": "execute_result"
    }
   ],
   "source": [
    "h,hh"
   ]
  },
  {
   "cell_type": "code",
   "execution_count": 13,
   "metadata": {
    "collapsed": false
   },
   "outputs": [
    {
     "data": {
      "text/plain": [
       "array([ 24.,  28.,  32.,  36.])"
      ]
     },
     "execution_count": 13,
     "metadata": {},
     "output_type": "execute_result"
    }
   ],
   "source": [
    "h.sum(axis=0)"
   ]
  },
  {
   "cell_type": "code",
   "execution_count": 28,
   "metadata": {
    "collapsed": false
   },
   "outputs": [],
   "source": [
    "x,error=pagerank('fn_chunk.txt',100)"
   ]
  },
  {
   "cell_type": "code",
   "execution_count": 26,
   "metadata": {
    "collapsed": false
   },
   "outputs": [
    {
     "data": {
      "text/plain": [
       "1.8529880493417744e-10"
      ]
     },
     "execution_count": 26,
     "metadata": {},
     "output_type": "execute_result"
    }
   ],
   "source": [
    "np.abs(x-np.dot(h,x)).mean()"
   ]
  },
  {
   "cell_type": "code",
   "execution_count": 29,
   "metadata": {
    "collapsed": false
   },
   "outputs": [
    {
     "data": {
      "text/plain": [
       "6.1776171743181678e-13"
      ]
     },
     "execution_count": 29,
     "metadata": {},
     "output_type": "execute_result"
    }
   ],
   "source": [
    "error"
   ]
  },
  {
   "cell_type": "code",
   "execution_count": null,
   "metadata": {
    "collapsed": true
   },
   "outputs": [],
   "source": []
  }
 ],
 "metadata": {
  "kernelspec": {
   "display_name": "Python 2",
   "language": "python",
   "name": "python2"
  },
  "language_info": {
   "codemirror_mode": {
    "name": "ipython",
    "version": 2
   },
   "file_extension": ".py",
   "mimetype": "text/x-python",
   "name": "python",
   "nbconvert_exporter": "python",
   "pygments_lexer": "ipython2",
   "version": "2.7.13"
  }
 },
 "nbformat": 4,
 "nbformat_minor": 2
}
